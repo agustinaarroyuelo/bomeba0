{
 "cells": [
  {
   "cell_type": "code",
   "execution_count": 2,
   "metadata": {},
   "outputs": [
    {
     "ename": "ImportError",
     "evalue": "No module named 'bomeba0.glycans'",
     "output_type": "error",
     "traceback": [
      "\u001b[1;31m---------------------------------------------------------------------------\u001b[0m",
      "\u001b[1;31mImportError\u001b[0m                               Traceback (most recent call last)",
      "\u001b[1;32m<ipython-input-2-74cdc6683f94>\u001b[0m in \u001b[0;36m<module>\u001b[1;34m()\u001b[0m\n\u001b[0;32m      3\u001b[0m \u001b[1;32mimport\u001b[0m \u001b[0mmatplotlib\u001b[0m\u001b[1;33m.\u001b[0m\u001b[0mpyplot\u001b[0m \u001b[1;32mas\u001b[0m \u001b[0mplt\u001b[0m\u001b[1;33m\u001b[0m\u001b[0m\n\u001b[0;32m      4\u001b[0m \u001b[1;32mfrom\u001b[0m \u001b[0mmpl_toolkits\u001b[0m\u001b[1;33m.\u001b[0m\u001b[0mmplot3d\u001b[0m \u001b[1;32mimport\u001b[0m \u001b[0mAxes3D\u001b[0m\u001b[1;33m\u001b[0m\u001b[0m\n\u001b[1;32m----> 5\u001b[1;33m \u001b[1;32mimport\u001b[0m \u001b[0mbomeba0\u001b[0m \u001b[1;32mas\u001b[0m \u001b[0mbmb\u001b[0m\u001b[1;33m\u001b[0m\u001b[0m\n\u001b[0m\u001b[0;32m      6\u001b[0m \u001b[1;32mfrom\u001b[0m \u001b[0mnumba\u001b[0m \u001b[1;32mimport\u001b[0m \u001b[0mjit\u001b[0m\u001b[1;33m\u001b[0m\u001b[0m\n",
      "\u001b[1;32m/home/agustina/Documents/bomeba0/bomeba0/__init__.py\u001b[0m in \u001b[0;36m<module>\u001b[1;34m()\u001b[0m\n\u001b[1;32m----> 1\u001b[1;33m \u001b[1;32mfrom\u001b[0m \u001b[1;33m.\u001b[0m\u001b[0mbiomolecules\u001b[0m \u001b[1;32mimport\u001b[0m \u001b[1;33m*\u001b[0m\u001b[1;33m\u001b[0m\u001b[0m\n\u001b[0m\u001b[0;32m      2\u001b[0m \u001b[1;32mfrom\u001b[0m \u001b[1;33m.\u001b[0m\u001b[0mOBB\u001b[0m \u001b[1;32mimport\u001b[0m \u001b[1;33m*\u001b[0m\u001b[1;33m\u001b[0m\u001b[0m\n\u001b[0;32m      3\u001b[0m \u001b[1;32mfrom\u001b[0m \u001b[1;33m.\u001b[0m\u001b[0mplots\u001b[0m \u001b[1;32mimport\u001b[0m \u001b[1;33m*\u001b[0m\u001b[1;33m\u001b[0m\u001b[0m\n",
      "\u001b[1;32m/home/agustina/Documents/bomeba0/bomeba0/biomolecules.py\u001b[0m in \u001b[0;36m<module>\u001b[1;34m()\u001b[0m\n\u001b[0;32m      2\u001b[0m \u001b[1;32mimport\u001b[0m \u001b[0mpandas\u001b[0m \u001b[1;32mas\u001b[0m \u001b[0mpd\u001b[0m\u001b[1;33m\u001b[0m\u001b[0m\n\u001b[0;32m      3\u001b[0m \u001b[1;32mfrom\u001b[0m \u001b[1;33m.\u001b[0m\u001b[0mresidues\u001b[0m \u001b[1;32mimport\u001b[0m \u001b[0mtemplates_aa\u001b[0m\u001b[1;33m,\u001b[0m \u001b[0mone_to_three_aa\u001b[0m\u001b[1;33m,\u001b[0m \u001b[0mthree_to_one_aa\u001b[0m\u001b[1;33m\u001b[0m\u001b[0m\n\u001b[1;32m----> 4\u001b[1;33m \u001b[1;32mfrom\u001b[0m \u001b[1;33m.\u001b[0m\u001b[0mglycans\u001b[0m \u001b[1;32mimport\u001b[0m \u001b[0mtemplates_gl\u001b[0m\u001b[1;33m,\u001b[0m \u001b[0mone_to_three_gl\u001b[0m\u001b[1;33m,\u001b[0m \u001b[0mthree_to_one_gl\u001b[0m\u001b[1;33m\u001b[0m\u001b[0m\n\u001b[0m\u001b[0;32m      5\u001b[0m \u001b[1;32mfrom\u001b[0m \u001b[1;33m.\u001b[0m\u001b[0mutils\u001b[0m \u001b[1;32mimport\u001b[0m \u001b[0mmod\u001b[0m\u001b[1;33m,\u001b[0m \u001b[0mperp_vector\u001b[0m\u001b[1;33m,\u001b[0m \u001b[0mget_angle\u001b[0m\u001b[1;33m,\u001b[0m \u001b[0mget_torsional\u001b[0m\u001b[1;33m\u001b[0m\u001b[0m\n\u001b[0;32m      6\u001b[0m \u001b[1;32mfrom\u001b[0m \u001b[1;33m.\u001b[0m\u001b[0mgeometry\u001b[0m \u001b[1;32mimport\u001b[0m \u001b[0mrotation_matrix_3d\u001b[0m\u001b[1;33m,\u001b[0m \u001b[0mset_torsional\u001b[0m\u001b[1;33m\u001b[0m\u001b[0m\n",
      "\u001b[1;31mImportError\u001b[0m: No module named 'bomeba0.glycans'"
     ]
    }
   ],
   "source": [
    "%matplotlib notebook\n",
    "import numpy as np\n",
    "import matplotlib.pyplot as plt\n",
    "from mpl_toolkits.mplot3d import Axes3D\n",
    "import bomeba0 as bmb\n",
    "from numba import jit"
   ]
  },
  {
   "cell_type": "code",
   "execution_count": null,
   "metadata": {
    "collapsed": true
   },
   "outputs": [],
   "source": [
    "n = 3\n",
    "prot = bmb.Protein('A' * n)\n",
    "#ang = np.random.uniform(-180, 180, size=(n, 2))\n",
    "#for i in range(0, len(prot)):\n",
    "#    phi, psi = ang[i]\n",
    "#    prot.set_phi(i, phi)\n",
    "#    prot.set_psi(i, psi)\n",
    "\n",
    "def fragments(prot):\n",
    "    \"\"\"\n",
    "    Takes a Protein object and returns a list.\n",
    "    of it's fragmented coordinates.\n",
    "    ----------------\n",
    "    Parameters\n",
    "    ----------------\n",
    "    prot: Protein object\n",
    "    \n",
    "    -----------------\n",
    "    Returns\n",
    "    -----------------\n",
    "    selec: List of selected coordinates.\n",
    "    \"\"\"\n",
    "    xyz = prot.coords\n",
    "    boxes = bmb.OBB._little_boxes(prot)\n",
    "    selec =  [xyz.take(i, 0) for i in  boxes]\n",
    "    return selec\n",
    "\n",
    "selec = fragments(prot)\n",
    "frag = np.concatenate(selec)"
   ]
  },
  {
   "cell_type": "markdown",
   "metadata": {},
   "source": [
    "* Intenté acelerar np.dot(), pero solo logré igualar la velocidad de numpy!\n",
    "* Al parecer es posible usarla descomposición QR en vez de los autovalores (esto hay que evaluarlo)\n",
    "* De forma llamativa np.linalg.qr como np.linalg.eigh se pueden acelerar con numba. "
   ]
  },
  {
   "cell_type": "code",
   "execution_count": null,
   "metadata": {
    "collapsed": true
   },
   "outputs": [],
   "source": [
    "@jit()\n",
    "def eigh(A):\n",
    "    return np.linalg.eigh(A)[1]\n",
    "\n",
    "# https://github.com/danbar/qr_decomposition\n",
    "@jit\n",
    "def qr(cov):\n",
    "    return np.linalg.qr(cov)[0]\n",
    "\n",
    "@jit\n",
    "def mini(xyz):\n",
    "    return np.min(xyz[:,0]), np.min(xyz[:,1]), np.min(xyz[:,2])\n",
    "\n",
    "@jit\n",
    "def maxi(xyz):\n",
    "    return np.max(xyz[:,0]), np.max(xyz[:,1]), np.max(xyz[:,2])"
   ]
  },
  {
   "cell_type": "code",
   "execution_count": null,
   "metadata": {
    "collapsed": true
   },
   "outputs": [],
   "source": [
    "class Node:    \n",
    "    \n",
    "    \"\"\"Constructor to create a new node\"\"\"\n",
    "    \n",
    "    def __init__(self, coord, parents, children):\n",
    "        self.obb = vertex_OBB(coord)\n",
    "        self.parents = parents\n",
    "        self.children = children\n",
    "        \n",
    "    def __str__(self):\n",
    "        return '{}'.format(self.obb, self.parents, self.children)\n",
    "\n",
    "def vertex_OBB(XYZ):\n",
    "        \"\"\"\n",
    "        Computes the 8 vertex of the Oriented Bounding Box\n",
    "\n",
    "        Parameters:\n",
    "        -----------\n",
    "        XYZ : array of shape (n,3).\n",
    "            Contains the coordinates of the atoms to be enclosed by the OBB.  \n",
    "              \n",
    "\n",
    "        Returns:\n",
    "        -----------\n",
    "        vertex : OBB coordinates\n",
    "        eigen_vecs : transformation matrix\n",
    "        vertex_no : XYZ\n",
    "        \"\"\"\n",
    "        # Compute scatter matrix\n",
    "        scat = np.dot(XYZ.T, XYZ)\n",
    "        # Compute qr decomposition\n",
    "        eigen_vecs = qr(scat)\n",
    "        # Compute eigenvalues\n",
    "        #eigen_vecs = eigh(scat)\n",
    "        # project XY onto the \"principal axes\"\n",
    "        XYZ_proj = np.dot(XYZ, eigen_vecs)\n",
    "        # compute min/max values\n",
    "        min_x, min_y, min_z = mini(XYZ_proj)\n",
    "        max_x, max_y, max_z = maxi(XYZ_proj)\n",
    "\n",
    "        Sr = 1.80 #S radius\n",
    "        min_x, min_y, min_z = min_x - Sr, min_y - Sr, min_z - Sr\n",
    "        max_x, max_y, max_z = max_x + Sr, max_y + Sr, max_z + Sr\n",
    "        \n",
    "        ver_proj_S = np.array([[min_x, min_y, min_z],\n",
    "                               [min_x, max_y, min_z],\n",
    "                               [max_x, min_y, min_z],\n",
    "                               [max_x, max_y, min_z],\n",
    "                               [min_x, min_y, max_z],\n",
    "                               [min_x, max_y, max_z],\n",
    "                               [max_x, min_y, max_z],\n",
    "                               [max_x, max_y, max_z]])\n",
    "\n",
    "        # project min/max values back to the original system\n",
    "        vertex_proj = np.dot(ver_proj_S, eigen_vecs.T)\n",
    "        #vertex_no = ver_proj @ eigen_vecs.T\n",
    "        return vertex_proj, eigen_vecs, XYZ\n",
    "\n",
    "def dimensions(node):\n",
    "    \"\"\"\n",
    "    Computes width, height and depth of an OBB,\n",
    "    contained in a node object.\n",
    "    \n",
    "    ----------------\n",
    "    Parameters:\n",
    "    ----------------\n",
    "    node: node object\n",
    "    \"\"\"\n",
    "    width = np.max(node.obb[0][:,0]) - np.min(node.obb[0][:,0])\n",
    "    height = np.max(node.obb[0][:,1]) - np.min(node.obb[0][:,1])\n",
    "    depth = np.max(node.obb[0][:,2]) - np.min(node.obb[0][:,2])\n",
    "    return [width, height, depth]\n",
    "\n",
    "def create_nodes(selec):\n",
    "        \"\"\"\n",
    "        Creates every node\n",
    "\n",
    "        Parameters:\n",
    "        -----------\n",
    "        selec : list of arrays containing selection coordinates\n",
    "        \n",
    "        Returns:\n",
    "        -----------\n",
    "        nodes: (list of lists)\n",
    "            every level in the hierarchy and every node in each level\n",
    "        \"\"\"\n",
    "        lower_layer = [Node(i, parents=1, children=0) for i in selec]\n",
    "\n",
    "        combined = combine(lower_layer)\n",
    "        \n",
    "        nodes = [lower_layer]\n",
    "\n",
    "        for _ in selec:\n",
    "            layer = []\n",
    "            for node_list in combined:\n",
    "                if len(node_list) == 1:\n",
    "                    layer.append(node_list[0])\n",
    "                else:\n",
    "                    c = np.concatenate((node_list[0].obb[2], node_list[1].obb[2]))\n",
    "                    layer.append(Node(c, parents = 1, children = 2))\n",
    "\n",
    "            combined = combine(layer)\n",
    "            nodes.append(layer)\n",
    "            if len(combined[0]) == 1:\n",
    "                break\n",
    "        return nodes\n",
    "\n",
    "\n",
    "def combine(layer):\n",
    "    \"\"\"\n",
    "    group nodes in layer two by two.\n",
    "    If nodes are odd, the last node will be unpaired.\n",
    "\n",
    "    Parameters:\n",
    "    -----------\n",
    "    layer : list\n",
    "        list of nodes\n",
    "    \"\"\"\n",
    "    return [layer[n:n+2] for n in range(0, len(layer), 2)]"
   ]
  },
  {
   "cell_type": "code",
   "execution_count": null,
   "metadata": {
    "collapsed": true
   },
   "outputs": [],
   "source": [
    "nodes = create_nodes(selec)"
   ]
  },
  {
   "cell_type": "code",
   "execution_count": null,
   "metadata": {},
   "outputs": [],
   "source": [
    "%timeit create_nodes(selec)\n",
    "%timeit prot.energy()"
   ]
  },
  {
   "cell_type": "code",
   "execution_count": null,
   "metadata": {},
   "outputs": [],
   "source": [
    "fig = plt.figure()\n",
    "ax = fig.add_subplot(111, projection='3d')\n",
    "ax.scatter(frag[:,0], frag[:,1], frag[:,2], c='g')\n",
    "\n",
    "#ax.scatter(q[:,0], q[:,1], q[:,2], c='m')\n",
    "\n",
    "lv1 = -1\n",
    "lv2 = -2\n",
    "bx = 0\n",
    "#ax.scatter(nodes[lv1][0].obb[0][:,0],  nodes[lv1][0].obb[0][:,1], nodes[lv1][0].obb[0][:,2], c ='r')#\n",
    "ax.scatter(nodes[lv2][0].obb[0][:,0],  nodes[lv2][0].obb[0][:,1], nodes[lv2][0].obb[0][:,2], c ='b')#\n",
    "ax.scatter(nodes[lv2][bx+1].obb[0][:,0],  nodes[lv2][bx+1].obb[0][:,1], nodes[lv2][bx+1].obb[0][:,2], c ='y')#\n",
    "\n",
    "#### box for whole protein is the same than the one computed bottom-up\n",
    "box = vertex_OBB(frag)[0]\n",
    "#ax.scatter(box[:,0] , box[:,1] , box[:,2], c='b')"
   ]
  },
  {
   "cell_type": "code",
   "execution_count": null,
   "metadata": {
    "collapsed": true
   },
   "outputs": [],
   "source": [
    "def collide(hierarchy, level, a , b):\n",
    "    \"\"\"\n",
    "    Determines if two nodes collide.\n",
    "    \n",
    "    -----------------\n",
    "    Parameters:\n",
    "    -----------------\n",
    "    \n",
    "    hierarchy: output of create_nodes function. List of lists\n",
    "    level: int. Level in the hierarchy.\n",
    "    a, b: int. Index of the nodes in  a level.\n",
    "    \"\"\"\n",
    "    \n",
    "    axis = (np.any(np.absolute(hierarchy[level][a].obb[0][:,0]-hierarchy[level][b].obb[0][:,0]) * 2 < (dimensions(hierarchy[level][a])[0] + dimensions(hierarchy[level][b])[0])),\n",
    "            np.any(np.absolute(hierarchy[level][a].obb[0][:,1]-hierarchy[level][b].obb[0][:,1]) * 2 < (dimensions(hierarchy[level][a])[1] + dimensions(hierarchy[level][b])[1])),\n",
    "            np.any(np.absolute(hierarchy[level][a].obb[0][:,2]-hierarchy[level][b].obb[0][:,2]) * 2 < (dimensions(hierarchy[level][a])[2] + dimensions(hierarchy[level][b])[2])))\n",
    "    return np.any(axis)"
   ]
  },
  {
   "cell_type": "code",
   "execution_count": null,
   "metadata": {
    "collapsed": true
   },
   "outputs": [],
   "source": [
    "def DoBoxesIntersect(BVH):\n",
    "    \"\"\"\n",
    "    Read a BVH from the top to the bottom,\n",
    "    and detect colliding nodes. \n",
    "    \n",
    "    -----------------\n",
    "    Parameters:\n",
    "    -----------------\n",
    "    BVH: list of lists. Output of create nodes function. \n",
    "    \"\"\"\n",
    "    algo = [] \n",
    "    for level in range(2, len(BVH)):\n",
    "        for node in range(0, len(BVH[-level]) - 1):\n",
    "            for neighbour in range(node, len(BVH[-level])):\n",
    "                algo.append(collide (BVH, -level, node, neighbour))\n",
    "    return algo"
   ]
  },
  {
   "cell_type": "code",
   "execution_count": null,
   "metadata": {},
   "outputs": [],
   "source": [
    "DoBoxesIntersect(nodes)"
   ]
  }
 ],
 "metadata": {
  "kernelspec": {
   "display_name": "Python 3",
   "language": "python",
   "name": "python3"
  },
  "language_info": {
   "codemirror_mode": {
    "name": "ipython",
    "version": 3
   },
   "file_extension": ".py",
   "mimetype": "text/x-python",
   "name": "python",
   "nbconvert_exporter": "python",
   "pygments_lexer": "ipython3",
   "version": "3.5.2"
  }
 },
 "nbformat": 4,
 "nbformat_minor": 2
}
