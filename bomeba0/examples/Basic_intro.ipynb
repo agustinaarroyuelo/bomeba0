{
 "cells": [
  {
   "cell_type": "code",
   "execution_count": 1,
   "metadata": {},
   "outputs": [],
   "source": [
    "%matplotlib inline\n",
    "import numpy as np\n",
    "import bomeba0 as bmb\n",
    "import matplotlib.pyplot as plt"
   ]
  },
  {
   "cell_type": "markdown",
   "metadata": {},
   "source": [
    "The first thing we do to use bomeba is to create a protein object. We can do this by passing a sequence (using one-letter code). At the moment only the 20 most common amino-acids are accepted."
   ]
  },
  {
   "cell_type": "code",
   "execution_count": 2,
   "metadata": {
    "collapsed": true
   },
   "outputs": [],
   "source": [
    "prot = bmb.Protein('GAG')"
   ]
  },
  {
   "cell_type": "markdown",
   "metadata": {},
   "source": [
    "A protein object has several attributes for example we can retrieve the sequence"
   ]
  },
  {
   "cell_type": "code",
   "execution_count": 3,
   "metadata": {},
   "outputs": [
    {
     "data": {
      "text/plain": [
       "'GAG'"
      ]
     },
     "execution_count": 3,
     "metadata": {},
     "output_type": "execute_result"
    }
   ],
   "source": [
    "prot.sequence"
   ]
  },
  {
   "cell_type": "markdown",
   "metadata": {},
   "source": [
    "or the cartesian coordinates as a (N, 3) numpy array"
   ]
  },
  {
   "cell_type": "code",
   "execution_count": 4,
   "metadata": {},
   "outputs": [
    {
     "data": {
      "text/plain": [
       "array([[-6.31387   ,  1.63056224, -2.10614436],\n",
       "       [-4.86387   ,  1.72056224, -2.36614436],\n",
       "       [-4.02387   ,  1.02056224, -1.31614436],\n",
       "       [-4.19379942,  1.10890302, -0.1266403 ],\n",
       "       [-6.48387   ,  1.10056224, -1.24614436],\n",
       "       [-4.63387   ,  1.26056224, -3.32614436],\n",
       "       [-4.55387   ,  2.77056224, -2.37614436],\n",
       "       [-3.02673676,  0.25617351, -1.84711628],\n",
       "       [-2.21065324, -0.4238961 , -0.82701187],\n",
       "       [-0.72163533, -0.31997492, -1.11236438],\n",
       "       [-0.21913606, -0.48652061, -2.20321589],\n",
       "       [-2.63019998, -1.89860634, -0.7094949 ],\n",
       "       [-2.68407767,  0.00706226, -2.77481684],\n",
       "       [-2.36867485,  0.07153062,  0.13806924],\n",
       "       [-3.70205873, -1.96595026, -0.46704157],\n",
       "       [-2.45908074, -2.42312971, -1.64661466],\n",
       "       [-2.06903575, -2.40560797,  0.07723507],\n",
       "       [ 0.        ,  0.        ,  0.        ],\n",
       "       [ 1.44610297,  0.10092607, -0.27712837],\n",
       "       [ 2.30368518, -0.59338659,  0.76238242],\n",
       "       [ 1.87943295, -1.17717338,  1.72716375],\n",
       "       [-0.18194382,  0.19326128,  0.98941726],\n",
       "       [ 1.66810385, -0.35682016, -1.24008424],\n",
       "       [ 1.74815151,  1.15320814, -0.29013324]])"
      ]
     },
     "execution_count": 4,
     "metadata": {},
     "output_type": "execute_result"
    }
   ],
   "source": [
    "prot.coords"
   ]
  },
  {
   "cell_type": "markdown",
   "metadata": {},
   "source": [
    "We can also compute the energy of our protein. At the moment the energy is computed in vacuum, with a very simple force-field that only includes a Lenard-Jones term:\n",
    "\n",
    "$$LJ_{ij} = \\epsilon \\left [ \\left (\\frac{\\sigma_{ij}}{r_{ij}} \\right)^{12}\n",
    "     - 2 \\left (\\frac{\\sigma_{ij}}{r_{ij}} \\right)^{6} \\right]$$\n",
    "\n",
    "$\\sigma_{ij}$ is the distance at which the potential reaches its minimum\n",
    "\n",
    "$\\epsilon_{ij}$ is the depth of the potential well\n",
    "\n",
    "$r_{ij}$ is the distance between the atoms\n",
    "\n",
    "Only five atoms types are considered (C, H, O, N, S), the parameters are loosely based on the general purpose force field GAFF"
   ]
  },
  {
   "cell_type": "code",
   "execution_count": 5,
   "metadata": {},
   "outputs": [
    {
     "data": {
      "text/plain": [
       "29.368874398924792"
      ]
     },
     "execution_count": 5,
     "metadata": {},
     "output_type": "execute_result"
    }
   ],
   "source": [
    "prot.energy()"
   ]
  },
  {
   "cell_type": "markdown",
   "metadata": {},
   "source": [
    "We can also compute the radius of gyration, i.e. the root mean squared deviation of all atoms with respect to their common geometric center."
   ]
  },
  {
   "cell_type": "code",
   "execution_count": 6,
   "metadata": {},
   "outputs": [
    {
     "data": {
      "text/plain": [
       "3.1444028117154939"
      ]
     },
     "execution_count": 6,
     "metadata": {},
     "output_type": "execute_result"
    }
   ],
   "source": [
    "prot.rgyr()"
   ]
  },
  {
   "cell_type": "markdown",
   "metadata": {},
   "source": [
    "As with other Python object we can ask for the lenght of our protein. The answer we get is the number of amino acids."
   ]
  },
  {
   "cell_type": "code",
   "execution_count": 7,
   "metadata": {},
   "outputs": [
    {
     "data": {
      "text/plain": [
       "3"
      ]
     },
     "execution_count": 7,
     "metadata": {},
     "output_type": "execute_result"
    }
   ],
   "source": [
    "len(prot)"
   ]
  },
  {
   "cell_type": "markdown",
   "metadata": {},
   "source": [
    "We can ask for the coordinates of individuals atoms, we have to specify the residue number and a valid atom name. The atom name is optional is none is passed then we will get the coordinates of the residue, two other options are \"bb\" and \"sc\", for the backbone and sidechains coordinates respectively.\n",
    "\n",
    "Let's not get the coordinates of the first two $\\alpha$ carbons:"
   ]
  },
  {
   "cell_type": "code",
   "execution_count": 8,
   "metadata": {
    "collapsed": true
   },
   "outputs": [],
   "source": [
    "CA_0 = prot.at_coords(0, 'CA')\n",
    "CA_1 = prot.at_coords(1, 'CA')"
   ]
  },
  {
   "cell_type": "markdown",
   "metadata": {},
   "source": [
    "And we can use those coordinates to compute, for example, distances:"
   ]
  },
  {
   "cell_type": "code",
   "execution_count": 9,
   "metadata": {},
   "outputs": [
    {
     "data": {
      "text/plain": [
       "3.742618012013873"
      ]
     },
     "execution_count": 9,
     "metadata": {},
     "output_type": "execute_result"
    }
   ],
   "source": [
    "bmb.utils.dist(CA_0, CA_1)"
   ]
  },
  {
   "cell_type": "markdown",
   "metadata": {},
   "source": [
    "We can ask for all the torsional angles in our molecule, at the moment this only works for $\\phi$ and $\\psi$ torsional angles, sidechain is comming soon!"
   ]
  },
  {
   "cell_type": "code",
   "execution_count": 10,
   "metadata": {},
   "outputs": [
    {
     "data": {
      "text/html": [
       "<div>\n",
       "<style>\n",
       "    .dataframe thead tr:only-child th {\n",
       "        text-align: right;\n",
       "    }\n",
       "\n",
       "    .dataframe thead th {\n",
       "        text-align: left;\n",
       "    }\n",
       "\n",
       "    .dataframe tbody tr th {\n",
       "        vertical-align: top;\n",
       "    }\n",
       "</style>\n",
       "<table border=\"1\" class=\"dataframe\">\n",
       "  <thead>\n",
       "    <tr style=\"text-align: right;\">\n",
       "      <th></th>\n",
       "      <th>aa</th>\n",
       "      <th>phi</th>\n",
       "      <th>psi</th>\n",
       "    </tr>\n",
       "  </thead>\n",
       "  <tbody>\n",
       "    <tr>\n",
       "      <th>0</th>\n",
       "      <td>G</td>\n",
       "      <td>NaN</td>\n",
       "      <td>135.0</td>\n",
       "    </tr>\n",
       "    <tr>\n",
       "      <th>1</th>\n",
       "      <td>A</td>\n",
       "      <td>-135.0</td>\n",
       "      <td>135.0</td>\n",
       "    </tr>\n",
       "    <tr>\n",
       "      <th>2</th>\n",
       "      <td>G</td>\n",
       "      <td>-135.0</td>\n",
       "      <td>NaN</td>\n",
       "    </tr>\n",
       "  </tbody>\n",
       "</table>\n",
       "</div>"
      ],
      "text/plain": [
       "  aa    phi    psi\n",
       "0  G    NaN  135.0\n",
       "1  A -135.0  135.0\n",
       "2  G -135.0    NaN"
      ]
     },
     "execution_count": 10,
     "metadata": {},
     "output_type": "execute_result"
    }
   ],
   "source": [
    "prot.get_torsionals(sidechain=False)"
   ]
  },
  {
   "cell_type": "markdown",
   "metadata": {},
   "source": [
    "and we can also change them!"
   ]
  },
  {
   "cell_type": "code",
   "execution_count": 11,
   "metadata": {},
   "outputs": [
    {
     "data": {
      "text/html": [
       "<div>\n",
       "<style>\n",
       "    .dataframe thead tr:only-child th {\n",
       "        text-align: right;\n",
       "    }\n",
       "\n",
       "    .dataframe thead th {\n",
       "        text-align: left;\n",
       "    }\n",
       "\n",
       "    .dataframe tbody tr th {\n",
       "        vertical-align: top;\n",
       "    }\n",
       "</style>\n",
       "<table border=\"1\" class=\"dataframe\">\n",
       "  <thead>\n",
       "    <tr style=\"text-align: right;\">\n",
       "      <th></th>\n",
       "      <th>aa</th>\n",
       "      <th>phi</th>\n",
       "      <th>psi</th>\n",
       "    </tr>\n",
       "  </thead>\n",
       "  <tbody>\n",
       "    <tr>\n",
       "      <th>0</th>\n",
       "      <td>G</td>\n",
       "      <td>NaN</td>\n",
       "      <td>135.0</td>\n",
       "    </tr>\n",
       "    <tr>\n",
       "      <th>1</th>\n",
       "      <td>A</td>\n",
       "      <td>-60.0</td>\n",
       "      <td>-40.0</td>\n",
       "    </tr>\n",
       "    <tr>\n",
       "      <th>2</th>\n",
       "      <td>G</td>\n",
       "      <td>-135.0</td>\n",
       "      <td>NaN</td>\n",
       "    </tr>\n",
       "  </tbody>\n",
       "</table>\n",
       "</div>"
      ],
      "text/plain": [
       "  aa    phi    psi\n",
       "0  G    NaN  135.0\n",
       "1  A  -60.0  -40.0\n",
       "2  G -135.0    NaN"
      ]
     },
     "execution_count": 11,
     "metadata": {},
     "output_type": "execute_result"
    }
   ],
   "source": [
    "prot.set_phi(1, -60)\n",
    "prot.set_psi(1, -40)\n",
    "prot.get_torsionals(sidechain=False)"
   ]
  },
  {
   "cell_type": "markdown",
   "metadata": {},
   "source": [
    "and we can plot a minimalistic (one-point) ramachadran!"
   ]
  },
  {
   "cell_type": "code",
   "execution_count": 12,
   "metadata": {},
   "outputs": [
    {
     "data": {
      "image/png": "[encoded data removed]",
      "text/plain": [
       "<matplotlib.figure.Figure at 0x7f5a67a6f438>"
      ]
     },
     "metadata": {},
     "output_type": "display_data"
    }
   ],
   "source": [
    "bmb.plot_ramachandran(prot);"
   ]
  },
  {
   "cell_type": "markdown",
   "metadata": {},
   "source": [
    "We can also initialize a protein object from a pdb file at the moment"
   ]
  },
  {
   "cell_type": "code",
   "execution_count": 13,
   "metadata": {},
   "outputs": [
    {
     "data": {
      "text/plain": [
       "I am a protein"
      ]
     },
     "execution_count": 13,
     "metadata": {},
     "output_type": "execute_result"
    }
   ],
   "source": [
    "pdb = bmb.Protein(pdb='../pdbs/1ubq.pdb')\n",
    "pdb"
   ]
  },
  {
   "cell_type": "markdown",
   "metadata": {},
   "source": [
    "At the moment objects initilizased from pdbs have only a subset of features compared to those initialized from a sequence, this will be remeadiated in the near future. What features are not available? Basically computing the energy and setting torsional angles. All of the other features should work the same. For example retriving the coordinates or computing all $\\phi, \\psi$ torsionals."
   ]
  },
  {
   "cell_type": "code",
   "execution_count": 14,
   "metadata": {},
   "outputs": [
    {
     "data": {
      "text/plain": [
       "array([[ 27.34 ,  24.43 ,   2.614],\n",
       "       [ 26.266,  25.413,   2.842],\n",
       "       [ 26.913,  26.639,   3.531],\n",
       "       ..., \n",
       "       [ 40.031,  39.992,  35.432],\n",
       "       [ 38.933,  40.525,  35.687],\n",
       "       [ 40.862,  39.575,  36.251]])"
      ]
     },
     "execution_count": 14,
     "metadata": {},
     "output_type": "execute_result"
    }
   ],
   "source": [
    "pdb.coords"
   ]
  },
  {
   "cell_type": "code",
   "execution_count": 15,
   "metadata": {},
   "outputs": [
    {
     "data": {
      "text/plain": [
       "<matplotlib.axes._subplots.AxesSubplot at 0x7f5a601d2048>"
      ]
     },
     "execution_count": 15,
     "metadata": {},
     "output_type": "execute_result"
    },
    {
     "data": {
      "image/png": "[encoded data removed]",
      "text/plain": [
       "<matplotlib.figure.Figure at 0x7f5a601656d8>"
      ]
     },
     "metadata": {},
     "output_type": "display_data"
    }
   ],
   "source": [
    "bmb.plot_ramachandran(pdb)"
   ]
  },
  {
   "cell_type": "markdown",
   "metadata": {},
   "source": [
    "Bomeba allows us to retrive some of the information in the pdb files, like the b_factors. You can also compute the b_factors from a protein object initialized from a sequence but they will just a bunch os zeros."
   ]
  },
  {
   "cell_type": "code",
   "execution_count": 16,
   "metadata": {},
   "outputs": [
    {
     "data": {
      "image/png": "[encoded data removed]",
      "text/plain": [
       "<matplotlib.figure.Figure at 0x7f5a60169898>"
      ]
     },
     "metadata": {},
     "output_type": "display_data"
    }
   ],
   "source": [
    "plt.plot(pdb.bfactors);"
   ]
  },
  {
   "cell_type": "markdown",
   "metadata": {},
   "source": [
    "As with distances we can also compute angles and torsionals angles from arbitrary points. For example"
   ]
  },
  {
   "cell_type": "code",
   "execution_count": 17,
   "metadata": {},
   "outputs": [
    {
     "data": {
      "text/plain": [
       "112.59343166554217"
      ]
     },
     "execution_count": 17,
     "metadata": {},
     "output_type": "execute_result"
    }
   ],
   "source": [
    "a = pdb.at_coords(0, 'N')\n",
    "b = pdb.at_coords(10, 'CA')\n",
    "c = pdb.at_coords(20, 'O')\n",
    "d = pdb.at_coords(30, 'N')\n",
    "bmb.utils.get_torsional(a, b, c, d) * bmb.constants.radians_to_degrees"
   ]
  },
  {
   "cell_type": "markdown",
   "metadata": {},
   "source": [
    "Notice that angles are returned in radians and we multiple the result by the constant `radians_to_degrees` to get the result in the _more familiar_ degrees."
   ]
  },
  {
   "cell_type": "markdown",
   "metadata": {},
   "source": [
    "Bomeba uses py3D mol to embed in the notebook visualization of molecules. This is a very early draft"
   ]
  },
  {
   "cell_type": "code",
   "execution_count": 18,
   "metadata": {},
   "outputs": [
    {
     "data": {
      "text/html": [
       "<div id=\"3dmolviewer_15068942824556396\"  style=\"position: relative; width: 640px; height: 480px\">\n",
       "<script>\n",
       "if(typeof $3Dmolpromise === 'undefined') $3Dmolpromise = $.when($.getScript('https://3dmol.csb.pitt.edu/build/3Dmol.js'))\n",
       "var viewer_15068942824556396 = null;\n",
       "$3Dmolpromise.done(function() {\n",
       "viewer_15068942824556396 = $3Dmol.createViewer($(\"#3dmolviewer_15068942824556396\"),{backgroundColor:\"white\"});\n",
       "\tviewer_15068942824556396.addModel(\"ATOM      1  N   MET A   1      27.340  24.430   2.614  1.00  0.00           N  \\nATOM      2  CA  MET A   1      26.266  25.413   2.842  1.00  0.00           C  \\nATOM      3  C   MET A   1      26.913  26.639   3.531  1.00  0.00           C  \\nATOM      4  O   MET A   1      27.886  26.463   4.263  1.00  0.00           O  \\nATOM      5  CB  MET A   1      25.112  24.880   3.649  1.00  0.00           C  \\nATOM      6  CG  MET A   1      25.353  24.860   5.134  1.00  0.00           C  \\nATOM      7  SD  MET A   1      23.930  23.959   5.904  1.00  0.00           S  \\nATOM      8  CE  MET A   1      24.447  23.984   7.620  1.00  0.00           C  \\nATOM      9  N   MET A   1      26.335  27.770   3.258  1.00  0.00           N  \\nATOM     10  CA  MET A   1      26.850  29.021   3.898  1.00  0.00           C  \\nATOM     11  C   MET A   1      26.100  29.253   5.202  1.00  0.00           C  \\nATOM     12  O   MET A   1      24.865  29.024   5.330  1.00  0.00           O  \\nATOM     13  CB  MET A   1      26.733  30.148   2.905  1.00  0.00           C  \\nATOM     14  CG  MET A   1      26.882  31.546   3.409  1.00  0.00           C  \\nATOM     15  CD  MET A   1      26.786  32.562   2.270  1.00  0.00           C  \\nATOM     16  OE1 MET A   1      27.783  33.160   1.870  1.00  0.00           O  \\nATOM     17  NE2 MET A   1      25.562  32.733   1.806  1.00  0.00           N  \\nATOM     18  N   GLN A   2      26.849  29.656   6.217  1.00  0.00           N  \\nATOM     19  CA  GLN A   2      26.235  30.058   7.497  1.00  0.00           C  \\nATOM     20  C   GLN A   2      26.882  31.428   7.862  1.00  0.00           C  \\nATOM     21  O   GLN A   2      27.906  31.711   7.264  1.00  0.00           O  \\nATOM     22  CB  GLN A   2      26.344  29.050   8.645  1.00  0.00           C  \\nATOM     23  CG1 GLN A   2      27.810  28.748   8.999  1.00  0.00           C  \\nATOM     24  CG2 GLN A   2      25.491  27.771   8.287  1.00  0.00           C  \\nATOM     25  CD1 GLN A   2      27.967  28.087  10.417  1.00  0.00           C  \\nATOM     26  N   GLN A   2      26.214  32.097   8.771  1.00  0.00           N  \\nATOM     27  CA  GLN A   2      26.772  33.436   9.197  1.00  0.00           C  \\nATOM     28  C   GLN A   2      27.151  33.362  10.650  1.00  0.00           C  \\nATOM     29  O   GLN A   2      26.350  32.778  11.395  1.00  0.00           O  \\nATOM     30  CB  GLN A   2      25.695  34.498   8.946  1.00  0.00           C  \\nATOM     31  CG  GLN A   2      25.288  34.609   7.499  1.00  0.00           C  \\nATOM     32  CD1 GLN A   2      24.147  33.966   7.038  1.00  0.00           C  \\nATOM     33  CD2 GLN A   2      26.136  35.346   6.640  1.00  0.00           C  \\nATOM     34  CE1 GLN A   2      23.812  34.031   5.677  1.00  0.00           C  \\nATOM     35  CE2 ILE A   3      25.810  35.392   5.267  1.00  0.00           C  \\nATOM     36  CZ  ILE A   3      24.620  34.778   4.853  1.00  0.00           C  \\nATOM     37  N   ILE A   3      28.260  33.943  11.096  1.00  0.00           N  \\nATOM     38  CA  ILE A   3      28.605  33.965  12.503  1.00  0.00           C  \\nATOM     39  C   ILE A   3      28.638  35.461  12.900  1.00  0.00           C  \\nATOM     40  O   ILE A   3      29.522  36.103  12.320  1.00  0.00           O  \\nATOM     41  CB  ILE A   3      29.963  33.317  12.814  1.00  0.00           C  \\nATOM     42  CG1 ILE A   3      30.211  33.394  14.304  1.00  0.00           C  \\nATOM     43  CG2 ILE A   3      29.957  31.838  12.352  1.00  0.00           C  \\nATOM     44  N   ILE A   3      27.751  35.867  13.740  1.00  0.00           N  \\nATOM     45  CA  ILE A   3      27.691  37.315  14.143  1.00  0.00           C  \\nATOM     46  C   ILE A   3      28.469  37.475  15.420  1.00  0.00           C  \\nATOM     47  O   ILE A   3      28.213  36.753  16.411  1.00  0.00           O  \\nATOM     48  CB  ILE A   3      26.219  37.684  14.307  1.00  0.00           C  \\nATOM     49  CG  ILE A   3      25.884  39.139  14.615  1.00  0.00           C  \\nATOM     50  CD  ILE A   3      24.348  39.296  14.642  1.00  0.00           C  \\nATOM     51  CE  ILE A   3      23.865  40.723  14.749  1.00  0.00           C  \\nATOM     52  NZ  ILE A   3      22.375  40.720  14.907  1.00  0.00           N  \\nATOM     53  N   ILE A   3      29.426  38.430  15.446  1.00  0.00           N  \\nATOM     54  CA  PHE A   4      30.225  38.643  16.662  1.00  0.00           C  \\nATOM     55  C   PHE A   4      29.664  39.839  17.434  1.00  0.00           C  \\nATOM     56  O   PHE A   4      28.850  40.565  16.859  1.00  0.00           O  \\nATOM     57  CB  PHE A   4      31.744  38.879  16.299  1.00  0.00           C  \\nATOM     58  OG1 PHE A   4      31.737  40.257  15.824  1.00  0.00           O  \\nATOM     59  CG2 PHE A   4      32.260  37.969  15.171  1.00  0.00           C  \\nATOM     60  N   PHE A   4      30.132  40.069  18.642  1.00  0.00           N  \\nATOM     61  CA  PHE A   4      29.607  41.180  19.467  1.00  0.00           C  \\nATOM     62  C   PHE A   4      30.075  42.538  18.984  1.00  0.00           C  \\nATOM     63  O   PHE A   4      29.586  43.570  19.483  1.00  0.00           O  \\nATOM     64  CB  PHE A   4      29.919  40.890  20.938  1.00  0.00           C  \\nATOM     65  CG  PHE A   4      29.183  39.722  21.581  1.00  0.00           C  \\nATOM     66  CD1 PHE A   4      29.308  39.750  23.095  1.00  0.00           C  \\nATOM     67  CD2 PHE A   4      27.700  39.721  21.228  1.00  0.00           C  \\nATOM     68  N   PHE A   4      30.991  42.571  17.998  1.00  0.00           N  \\nATOM     69  CA  PHE A   4      31.422  43.940  17.553  1.00  0.00           C  \\nATOM     70  C   PHE A   4      30.755  44.351  16.277  1.00  0.00           C  \\nATOM     71  O   PHE A   4      31.207  45.268  15.566  1.00  0.00           O  \\nATOM     72  CB  PHE A   4      32.979  43.918  17.445  1.00  0.00           C  \\nATOM     73  OG1 PHE A   4      33.174  43.067  16.265  1.00  0.00           O  \\nATOM     74  CG2 VAL A   5      33.657  43.319  18.672  1.00  0.00           C  \\nATOM     75  N   VAL A   5      29.721  43.673  15.885  1.00  0.00           N  \\nATOM     76  CA  VAL A   5      28.978  43.960  14.678  1.00  0.00           C  \\nATOM     77  C   VAL A   5      29.604  43.507  13.393  1.00  0.00           C  \\nATOM     78  O   VAL A   5      29.219  43.981  12.301  1.00  0.00           O  \\nATOM     79  N   VAL A   5      30.563  42.623  13.495  1.00  0.00           N  \\nATOM     80  CA  VAL A   5      31.191  42.012  12.331  1.00  0.00           C  \\nATOM     81  C   VAL A   5      30.459  40.666  12.130  1.00  0.00           C  \\nATOM     82  O   VAL A   5      30.253  39.991  13.133  1.00  0.00           O  \\nATOM     83  CB  VAL A   5      32.672  41.717  12.505  1.00  0.00           C  \\nATOM     84  CG  VAL A   5      33.280  41.086  11.227  1.00  0.00           C  \\nATOM     85  CD  VAL A   5      34.762  40.799  11.470  1.00  0.00           C  \\nATOM     86  CE  VAL A   5      35.614  40.847  10.240  1.00  0.00           C  \\nATOM     87  NZ  VAL A   5      35.100  40.073   9.101  1.00  0.00           N  \\nATOM     88  N   VAL A   5      30.163  40.338  10.886  1.00  0.00           N  \\nATOM     89  CA  VAL A   5      29.542  39.020  10.653  1.00  0.00           C  \\nATOM     90  C   LYS A   6      30.494  38.261   9.729  1.00  0.00           C  \\nATOM     91  O   LYS A   6      30.849  38.850   8.706  1.00  0.00           O  \\nATOM     92  CB  LYS A   6      28.113  39.049  10.015  1.00  0.00           C  \\nATOM     93  OG1 LYS A   6      27.280  39.722  10.996  1.00  0.00           O  \\nATOM     94  CG2 LYS A   6      27.588  37.635   9.715  1.00  0.00           C  \\nATOM     95  N   LYS A   6      30.795  37.015  10.095  1.00  0.00           N  \\nATOM     96  CA  LYS A   6      31.720  36.289   9.176  1.00  0.00           C  \\nATOM     97  C   LYS A   6      30.955  35.211   8.459  1.00  0.00           C  \\nATOM     98  O   LYS A   6      30.025  34.618   9.040  1.00  0.00           O  \\nATOM     99  CB  LYS A   6      32.995  35.883   9.934  1.00  0.00           C  \\nATOM    100  CG1 LYS A   6      33.306  34.381   9.840  1.00  0.00           C  \\nATOM    101  CG2 LYS A   6      33.109  36.381  11.435  1.00  0.00           C  \\nATOM    102  CD1 LYS A   6      34.535  34.028  10.720  1.00  0.00           C  \\nATOM    103  N   LYS A   6      31.244  34.986   7.197  1.00  0.00           N  \\nATOM    104  CA  LYS A   6      30.505  33.884   6.512  1.00  0.00           C  \\nATOM    105  C   LYS A   6      31.409  32.680   6.446  1.00  0.00           C  \\nATOM    106  O   LYS A   6      32.619  32.812   6.125  1.00  0.00           O  \\nATOM    107  CB  LYS A   6      30.091  34.393   5.078  1.00  0.00           C  \\nATOM    108  OG1 LYS A   6      31.440  34.513   4.487  1.00  0.00           O  \\nATOM    109  CG2 LYS A   6      29.420  35.756   5.119  1.00  0.00           C  \\nATOM    110  N   LYS A   6      30.884  31.485   6.666  1.00  0.00           N  \\nATOM    111  CA  LYS A   6      31.677  30.275   6.639  1.00  0.00           C  \\nATOM    112  C   THR A   7      31.022  29.288   5.665  1.00  0.00           C  \\nATOM    113  O   THR A   7      29.809  29.395   5.545  1.00  0.00           O  \\nATOM    114  CB  THR A   7      31.562  29.686   8.045  1.00  0.00           C  \\nATOM    115  CG  THR A   7      32.631  29.444   9.060  1.00  0.00           C  \\nATOM    116  CD1 THR A   7      33.814  30.390   9.030  1.00  0.00           C  \\nATOM    117  CD2 THR A   7      31.945  29.449  10.436  1.00  0.00           C  \\nATOM    118  N   THR A   7      31.834  28.412   5.125  1.00  0.00           N  \\nATOM    119  CA  THR A   7      31.220  27.341   4.275  1.00  0.00           C  \\nATOM    120  C   THR A   7      31.440  26.079   5.080  1.00  0.00           C  \\nATOM    121  O   THR A   7      32.576  25.802   5.461  1.00  0.00           O  \\nATOM    122  CB  THR A   7      31.827  27.262   2.894  1.00  0.00           C  \\nATOM    123  CG  THR A   7      31.363  28.410   1.962  1.00  0.00           C  \\nATOM    124  CD  THR A   7      31.671  28.291   0.498  1.00  0.00           C  \\nATOM    125  OE1 THR A   7      30.869  28.621  -0.366  1.00  0.00           O  \\nATOM    126  OE2 LEU A   8      32.835  27.861   0.278  1.00  0.00           O  \\nATOM    127  N   LEU A   8      30.310  25.458   5.384  1.00  0.00           N  \\nATOM    128  CA  LEU A   8      30.288  24.245   6.193  1.00  0.00           C  \\nATOM    129  C   LEU A   8      29.279  23.227   5.641  1.00  0.00           C  \\nATOM    130  O   LEU A   8      28.478  23.522   4.725  1.00  0.00           O  \\nATOM    131  CB  LEU A   8      29.903  24.590   7.665  1.00  0.00           C  \\nATOM    132  CG1 LEU A   8      30.862  25.496   8.389  1.00  0.00           C  \\nATOM    133  CG2 LEU A   8      28.476  25.135   7.705  1.00  0.00           C  \\nATOM    134  N   LEU A   8      29.380  22.057   6.232  1.00  0.00           N  \\nATOM    135  CA  LEU A   8      28.468  20.940   5.980  1.00  0.00           C  \\nATOM    136  C   LEU A   8      27.819  20.609   7.316  1.00  0.00           C  \\nATOM    137  O   LEU A   8      28.449  20.674   8.360  1.00  0.00           O  \\nATOM    138  CB  LEU A   8      29.213  19.697   5.506  1.00  0.00           C  \\nATOM    139  CG  LEU A   8      29.728  19.755   4.060  1.00  0.00           C  \\nATOM    140  CD  LEU A   8      28.754  20.061   2.978  1.00  0.00           C  \\nATOM    141  OE1 LEU A   8      27.546  19.992   2.985  1.00  0.00           O  \\nATOM    142  OE2 LEU A   8      29.336  20.423   1.904  1.00  0.00           O  \\nATOM    143  N   LEU A   8      26.559  20.220   7.288  1.00  0.00           N  \\nATOM    144  CA  LEU A   8      25.829  19.825   8.494  1.00  0.00           C  \\nATOM    145  C   THR A   9      26.541  18.732   9.251  1.00  0.00           C  \\nATOM    146  O   THR A   9      26.333  18.536  10.457  1.00  0.00           O  \\nATOM    147  CB  THR A   9      24.469  19.332   7.952  1.00  0.00           C  \\nATOM    148  CG  THR A   9      24.299  20.134   6.704  1.00  0.00           C  \\nATOM    149  CD  THR A   9      25.714  20.108   6.073  1.00  0.00           C  \\nATOM    150  N   THR A   9      27.361  17.959   8.559  1.00  0.00           N  \\nATOM    151  CA  THR A   9      28.054  16.835   9.210  1.00  0.00           C  \\nATOM    152  C   THR A   9      29.258  17.318   9.984  1.00  0.00           C  \\nATOM    153  O   THR A   9      29.930  16.477  10.606  1.00  0.00           O  \\nATOM    154  CB  THR A   9      28.523  15.820   8.182  1.00  0.00           C  \\nATOM    155  OG  THR A   9      28.946  16.445   6.967  1.00  0.00           O  \\nATOM    156  N   THR A   9      29.599  18.599   9.828  1.00  0.00           N  \\nATOM    157  CA  THR A   9      30.796  19.083  10.566  1.00  0.00           C  \\nATOM    158  C   THR A   9      30.491  19.162  12.040  1.00  0.00           C  \\nATOM    159  O   GLY A  10      29.367  19.523  12.441  1.00  0.00           O  \\nATOM    160  CB  GLY A  10      31.155  20.515  10.048  1.00  0.00           C  \\nATOM    161  CG  GLY A  10      31.923  20.436   8.755  1.00  0.00           C  \\nATOM    162  OD1 GLY A  10      32.493  19.374   8.456  1.00  0.00           O  \\nATOM    163  OD2 GLY A  10      31.838  21.402   7.968  1.00  0.00           O  \\nATOM    164  N   GLY A  10      31.510  18.936  12.852  1.00  0.00           N  \\nATOM    165  CA  GLY A  10      31.398  19.064  14.286  1.00  0.00           C  \\nATOM    166  C   LYS A  11      31.593  20.553  14.655  1.00  0.00           C  \\nATOM    167  O   LYS A  11      32.159  21.311  13.861  1.00  0.00           O  \\nATOM    168  CB  LYS A  11      32.492  18.193  14.995  1.00  0.00           C  \\nATOM    169  OG1 LYS A  11      33.778  18.739  14.516  1.00  0.00           O  \\nATOM    170  CG2 LYS A  11      32.352  16.700  14.630  1.00  0.00           C  \\nATOM    171  N   LYS A  11      31.113  20.863  15.860  1.00  0.00           N  \\nATOM    172  CA  LYS A  11      31.288  22.201  16.417  1.00  0.00           C  \\nATOM    173  C   LYS A  11      32.776  22.519  16.577  1.00  0.00           C  \\nATOM    174  O   LYS A  11      33.233  23.659  16.384  1.00  0.00           O  \\nATOM    175  CB  LYS A  11      30.520  22.300  17.764  1.00  0.00           C  \\nATOM    176  CG1 LYS A  11      29.006  22.043  17.442  1.00  0.00           C  \\nATOM    177  CG2 LYS A  11      30.832  23.699  18.358  1.00  0.00           C  \\nATOM    178  CD1 LYS A  11      28.407  22.948  16.366  1.00  0.00           C  \\nATOM    179  N   LYS A  11      33.548  21.526  16.950  1.00  0.00           N  \\nATOM    180  CA  LYS A  11      35.031  21.722  17.069  1.00  0.00           C  \\nATOM    181  C   LYS A  11      35.615  22.190  15.759  1.00  0.00           C  \\nATOM    182  O   LYS A  11      36.532  23.046  15.724  1.00  0.00           O  \\nATOM    183  CB  LYS A  11      35.667  20.383  17.447  1.00  0.00           C  \\nATOM    184  CG  LYS A  11      37.128  20.293  17.872  1.00  0.00           C  \\nATOM    185  CD  LYS A  11      37.561  18.851  18.082  1.00  0.00           C  \\nATOM    186  OE1 LYS A  11      37.758  18.024  17.195  1.00  0.00           O  \\nATOM    187  OE2 LYS A  11      37.628  18.599  19.313  1.00  0.00           O  \\nATOM    188  N   THR A  12      35.139  21.624  14.662  1.00  0.00           N  \\nATOM    189  CA  THR A  12      35.590  21.945  13.302  1.00  0.00           C  \\nATOM    190  C   THR A  12      35.238  23.382  12.920  1.00  0.00           C  \\nATOM    191  O   THR A  12      36.066  24.109  12.333  1.00  0.00           O  \\nATOM    192  CB  THR A  12      35.064  20.957  12.255  1.00  0.00           C  \\nATOM    193  CG  THR A  12      35.541  21.418  10.871  1.00  0.00           C  \\nATOM    194  OD1 THR A  12      36.772  21.623  10.676  1.00  0.00           O  \\nATOM    195  ND2 THR A  12      34.628  21.595   9.920  1.00  0.00           N  \\nATOM    196  N   THR A  12      34.007  23.745  13.250  1.00  0.00           N  \\nATOM    197  CA  THR A  12      33.533  25.097  12.978  1.00  0.00           C  \\nATOM    198  C   THR A  12      34.441  26.099  13.684  1.00  0.00           C  \\nATOM    199  O   THR A  12      34.883  27.090  13.093  1.00  0.00           O  \\nATOM    200  CB  THR A  12      32.060  25.257  13.364  1.00  0.00           C  \\nATOM    201  CG1 THR A  12      31.684  26.749  13.342  1.00  0.00           C  \\nATOM    202  CG2 ILE A  13      31.152  24.421  12.477  1.00  0.00           C  \\nATOM    203  N   ILE A  13      34.734  25.822  14.949  1.00  0.00           N  \\nATOM    204  CA  ILE A  13      35.596  26.715  15.736  1.00  0.00           C  \\nATOM    205  C   ILE A  13      36.975  26.826  15.107  1.00  0.00           C  \\nATOM    206  O   ILE A  13      37.579  27.926  15.159  1.00  0.00           O  \\nATOM    207  CB  ILE A  13      35.715  26.203  17.172  1.00  0.00           C  \\nATOM    208  CG  ILE A  13      34.343  26.445  17.898  1.00  0.00           C  \\nATOM    209  CD  ILE A  13      34.509  26.077  19.360  1.00  0.00           C  \\nATOM    210  CE  ILE A  13      33.206  26.311  20.122  1.00  0.00           C  \\nATOM    211  NZ  ILE A  13      33.455  25.910  21.546  1.00  0.00           N  \\nATOM    212  N   ILE A  13      37.499  25.743  14.571  1.00  0.00           N  \\nATOM    213  CA  ILE A  13      38.794  25.761  13.880  1.00  0.00           C  \\nATOM    214  C   ILE A  13      38.728  26.591  12.611  1.00  0.00           C  \\nATOM    215  O   ILE A  13      39.704  27.346  12.277  1.00  0.00           O  \\nATOM    216  CB  ILE A  13      39.285  24.336  13.566  1.00  0.00           C  \\nATOM    217  N   ILE A  13      37.633  26.543  11.867  1.00  0.00           N  \\nATOM    218  CA  ILE A  13      37.471  27.391  10.668  1.00  0.00           C  \\nATOM    219  C   ILE A  13      37.441  28.882  11.052  1.00  0.00           C  \\nATOM    220  O   ILE A  13      38.020  29.772  10.382  1.00  0.00           O  \\nATOM    221  CB  THR A  14      36.193  27.058   9.911  1.00  0.00           C  \\nATOM    222  CG  THR A  14      36.153  25.620   9.409  1.00  0.00           C  \\nATOM    223  CD  THR A  14      34.758  25.280   8.900  1.00  0.00           C  \\nATOM    224  CE  THR A  14      34.793  24.264   7.767  1.00  0.00           C  \\nATOM    225  NZ  THR A  14      34.914  24.944   6.441  1.00  0.00           N  \\nATOM    226  N   THR A  14      36.811  29.170  12.192  1.00  0.00           N  \\nATOM    227  CA  THR A  14      36.731  30.570  12.645  1.00  0.00           C  \\nATOM    228  C   THR A  14      38.148  30.981  13.069  1.00  0.00           C  \\nATOM    229  O   THR A  14      38.544  32.150  12.856  1.00  0.00           O  \\nATOM    230  CB  THR A  14      35.708  30.776  13.806  1.00  0.00           C  \\nATOM    231  CG1 THR A  14      34.228  30.630  13.319  1.00  0.00           C  \\nATOM    232  CG2 THR A  14      35.874  32.138  14.512  1.00  0.00           C  \\nATOM    233  CD1 THR A  14      33.284  30.504  14.552  1.00  0.00           C  \\nATOM    234  N   THR A  14      38.883  30.110  13.713  1.00  0.00           N  \\nATOM    235  CA  LEU A  15      40.269  30.508  14.115  1.00  0.00           C  \\nATOM    236  C   LEU A  15      41.092  30.808  12.851  1.00  0.00           C  \\nATOM    237  O   LEU A  15      41.828  31.808  12.681  1.00  0.00           O  \\nATOM    238  CB  LEU A  15      40.996  29.399  14.865  1.00  0.00           C  \\nATOM    239  CG  LEU A  15      42.445  29.848  15.182  1.00  0.00           C  \\nATOM    240  CD  LEU A  15      43.090  28.828  16.095  1.00  0.00           C  \\nATOM    241  OE1 LEU A  15      42.770  27.655  15.906  1.00  0.00           O  \\nATOM    242  NE2 LEU A  15      43.898  29.252  17.050  1.00  0.00           N  \\nATOM    243  N   LEU A  15      41.001  29.878  11.931  1.00  0.00           N  \\nATOM    244  CA  LEU A  15      41.718  30.022  10.643  1.00  0.00           C  \\nATOM    245  C   LEU A  15      41.399  31.338   9.967  1.00  0.00           C  \\nATOM    246  O   LEU A  15      42.260  32.036   9.381  1.00  0.00           O  \\nATOM    247  CB  LEU A  15      41.398  28.780   9.810  1.00  0.00           C  \\nATOM    248  CG  LEU A  15      42.626  28.557   8.928  1.00  0.00           C  \\nATOM    249  OD1 LEU A  15      43.666  28.262   9.539  1.00  0.00           O  \\nATOM    250  OD2 LEU A  15      42.430  28.812   7.728  1.00  0.00           O  \\nATOM    251  N   LEU A  15      40.117  31.750   9.988  1.00  0.00           N  \\nATOM    252  CA  LEU A  15      39.808  32.994   9.233  1.00  0.00           C  \\nATOM    253  C   LEU A  15      39.837  34.271   9.995  1.00  0.00           C  \\nATOM    254  O   GLU A  16      40.164  35.323   9.345  1.00  0.00           O  \\nATOM    255  CB  GLU A  16      38.615  32.801   8.320  1.00  0.00           C  \\nATOM    256  CG  GLU A  16      37.220  32.822   8.827  1.00  0.00           C  \\nATOM    257  CD  GLU A  16      36.351  33.613   7.838  1.00  0.00           C  \\nATOM    258  CE  GLU A  16      36.322  32.944   6.477  1.00  0.00           C  \\nATOM    259  NZ  GLU A  16      35.768  33.945   5.489  1.00  0.00           N  \\nATOM    260  N   GLU A  16      39.655  34.335  11.285  1.00  0.00           N  \\nATOM    261  CA  GLU A  16      39.676  35.547  12.072  1.00  0.00           C  \\nATOM    262  C   GLU A  16      40.675  35.527  13.200  1.00  0.00           C  \\nATOM    263  O   GLU A  16      40.814  36.528  13.911  1.00  0.00           O  \\nATOM    264  CB  GLU A  16      38.290  35.814  12.698  1.00  0.00           C  \\nATOM    265  CG  GLU A  16      37.156  35.985  11.688  1.00  0.00           C  \\nATOM    266  CD  GLU A  16      37.192  37.361  11.033  1.00  0.00           C  \\nATOM    267  OE1 GLU A  16      37.519  38.360  11.645  1.00  0.00           O  \\nATOM    268  OE2 GLU A  16      36.861  37.320   9.822  1.00  0.00           O  \\nATOM    269  N   VAL A  17      41.317  34.393  13.432  1.00  0.00           N  \\nATOM    270  CA  VAL A  17      42.345  34.269  14.431  1.00  0.00           C  \\nATOM    271  C   VAL A  17      41.949  34.076  15.842  1.00  0.00           C  \\nATOM    272  O   VAL A  17      42.829  34.000  16.739  1.00  0.00           O  \\nATOM    273  N   VAL A  17      40.642  33.916  16.112  1.00  0.00           N  \\nATOM    274  CA  VAL A  17      40.226  33.716  17.509  1.00  0.00           C  \\nATOM    275  C   VAL A  17      40.449  32.278  17.945  1.00  0.00           C  \\nATOM    276  O   VAL A  17      39.936  31.336  17.315  1.00  0.00           O  \\nATOM    277  CB  VAL A  17      38.693  34.106  17.595  1.00  0.00           C  \\nATOM    278  CG1 VAL A  17      38.471  35.546  17.045  1.00  0.00           C  \\nATOM    279  CG2 VAL A  17      38.146  33.932  19.027  1.00  0.00           C  \\nATOM    280  CD1 VAL A  17      36.958  35.746  16.680  1.00  0.00           C  \\nATOM    281  N   VAL A  17      41.189  32.085  19.031  1.00  0.00           N  \\nATOM    282  CA  VAL A  17      41.461  30.751  19.594  1.00  0.00           C  \\nATOM    283  C   VAL A  17      40.168  30.026  19.918  1.00  0.00           C  \\nATOM    284  O   VAL A  17      39.264  30.662  20.521  1.00  0.00           O  \\nATOM    285  CB  GLU A  18      42.195  31.142  20.913  1.00  0.00           C  \\nATOM    286  CG  GLU A  18      42.904  32.414  20.553  1.00  0.00           C  \\nATOM    287  CD  GLU A  18      41.822  33.188  19.813  1.00  0.00           C  \\nATOM    288  N   GLU A  18      40.059  28.758  19.607  1.00  0.00           N  \\nATOM    289  CA  GLU A  18      38.817  28.020  19.889  1.00  0.00           C  \\nATOM    290  C   GLU A  18      38.421  28.048  21.341  1.00  0.00           C  \\nATOM    291  O   GLU A  18      37.213  28.036  21.704  1.00  0.00           O  \\nATOM    292  CB  GLU A  18      39.090  26.629  19.325  1.00  0.00           C  \\nATOM    293  CG  GLU A  18      40.082  26.904  18.198  1.00  0.00           C  \\nATOM    294  CD  GLU A  18      41.035  27.909  18.879  1.00  0.00           C  \\nATOM    295  N   GLU A  18      39.374  28.090  22.240  1.00  0.00           N  \\nATOM    296  CA  GLU A  18      39.063  28.063  23.695  1.00  0.00           C  \\nATOM    297  C   GLU A  18      38.365  29.335  24.159  1.00  0.00           C  \\nATOM    298  O   GLU A  18      37.684  29.390  25.221  1.00  0.00           O  \\nATOM    299  CB  GLU A  18      40.340  27.692  24.468  1.00  0.00           C  \\nATOM    300  CG  PRO A  19      40.559  28.585  25.675  1.00  0.00           C  \\nATOM    301  OD1 PRO A  19      40.716  29.809  25.456  1.00  0.00           O  \\nATOM    302  OD2 PRO A  19      40.549  28.090  26.840  1.00  0.00           O  \\nATOM    303  N   PRO A  19      38.419  30.373  23.341  1.00  0.00           N  \\nATOM    304  CA  PRO A  19      37.738  31.637  23.712  1.00  0.00           C  \\nATOM    305  C   PRO A  19      36.334  31.742  23.087  1.00  0.00           C  \\nATOM    306  O   PRO A  19      35.574  32.618  23.483  1.00  0.00           O  \\nATOM    307  CB  PRO A  19      38.528  32.854  23.182  1.00  0.00           C  \\nATOM    308  CG  PRO A  19      39.919  32.854  23.840  1.00  0.00           C  \\nATOM    309  CD  PRO A  19      40.760  34.036  23.394  1.00  0.00           C  \\nATOM    310  OE1 PRO A  19      41.975  34.008  23.624  1.00  0.00           O  \\nATOM    311  NE2 PRO A  19      40.140  35.007  22.775  1.00  0.00           N  \\nATOM    312  N   PRO A  19      36.000  30.860  22.172  1.00  0.00           N  \\nATOM    313  CA  PRO A  19      34.738  30.875  21.473  1.00  0.00           C  \\nATOM    314  C   SER A  20      33.589  30.189  22.181  1.00  0.00           C  \\nATOM    315  O   SER A  20      33.580  29.009  22.499  1.00  0.00           O  \\nATOM    316  CB  SER A  20      34.876  30.237  20.066  1.00  0.00           C  \\nATOM    317  CG  SER A  20      36.012  30.860  19.221  1.00  0.00           C  \\nATOM    318  CD  SER A  20      36.083  30.194  17.875  1.00  0.00           C  \\nATOM    319  OE1 SER A  20      35.048  29.702  17.393  1.00  0.00           O  \\nATOM    320  NE2 SER A  20      37.228  30.126  17.233  1.00  0.00           N  \\nATOM    321  N   SER A  20      32.478  30.917  22.269  1.00  0.00           N  \\nATOM    322  CA  SER A  20      31.200  30.329  22.780  1.00  0.00           C  \\nATOM    323  C   SER A  20      30.210  30.509  21.650  1.00  0.00           C  \\nATOM    324  O   SER A  20      29.978  31.726  21.269  1.00  0.00           O  \\nATOM    325  CB  ASP A  21      30.847  30.931  24.118  1.00  0.00           C  \\nATOM    326  CG  ASP A  21      29.412  30.796  24.598  1.00  0.00           C  \\nATOM    327  CD  ASP A  21      29.271  31.314  26.016  1.00  0.00           C  \\nATOM    328  NE  ASP A  21      27.875  31.317  26.443  1.00  0.00           N  \\nATOM    329  CZ  ASP A  21      27.132  32.423  26.574  1.00  0.00           C  \\nATOM    330  NH1 ASP A  21      27.630  33.656  26.461  1.00  0.00           N  \\nATOM    331  NH2 ASP A  21      25.810  32.299  26.732  1.00  0.00           N  \\nATOM    332  N   ASP A  21      29.694  29.436  21.054  1.00  0.00           N  \\nATOM    333  CA  ASP A  21      28.762  29.573  19.906  1.00  0.00           C  \\nATOM    334  C   ASP A  21      27.331  29.317  20.364  1.00  0.00           C  \\nATOM    335  O   ASP A  21      27.101  28.346  21.097  1.00  0.00           O  \\nATOM    336  CB  ASP A  21      29.151  28.655  18.755  1.00  0.00           C  \\nATOM    337  CG  THR A  22      30.416  28.912  17.980  1.00  0.00           C  \\nATOM    338  CD1 THR A  22      30.738  27.693  17.122  1.00  0.00           C  \\nATOM    339  CD2 THR A  22      30.205  30.168  17.129  1.00  0.00           C  \\nATOM    340  N   THR A  22      26.436  30.232  20.004  1.00  0.00           N  \\nATOM    341  CA  THR A  22      25.034  30.170  20.401  1.00  0.00           C  \\nATOM    342  C   THR A  22      24.101  30.149  19.196  1.00  0.00           C  \\nATOM    343  O   THR A  22      24.196  30.948  18.287  1.00  0.00           O  \\nATOM    344  CB  THR A  22      24.639  31.426  21.286  1.00  0.00           C  \\nATOM    345  CG1 THR A  22      25.646  31.670  22.421  1.00  0.00           C  \\nATOM    346  CG2 THR A  22      23.181  31.309  21.824  1.00  0.00           C  \\nATOM    347  CD1 THR A  22      25.778  30.436  23.356  1.00  0.00           C  \\nATOM    348  N   THR A  22      23.141  29.187  19.241  1.00  0.00           N  \\nATOM    349  CA  THR A  22      22.126  29.062  18.183  1.00  0.00           C  \\nATOM    350  C   THR A  22      20.835  28.629  18.904  1.00  0.00           C  \\nATOM    351  O   ILE A  23      20.821  27.734  19.749  1.00  0.00           O  \\nATOM    352  CB  ILE A  23      22.494  28.057  17.109  1.00  0.00           C  \\nATOM    353  CG  ILE A  23      21.447  27.869  16.026  1.00  0.00           C  \\nATOM    354  CD1 ILE A  23      21.325  28.813  15.005  1.00  0.00           C  \\nATOM    355  CD2 ILE A  23      20.638  26.735  16.053  1.00  0.00           C  \\nATOM    356  CE1 ILE A  23      20.369  28.648  14.001  1.00  0.00           C  \\nATOM    357  CE2 ILE A  23      19.677  26.539  15.051  1.00  0.00           C  \\nATOM    358  CZ  ILE A  23      19.593  27.465  14.021  1.00  0.00           C  \\nATOM    359  N   ILE A  23      19.810  29.378  18.578  1.00  0.00           N  \\nATOM    360  CA  ILE A  23      18.443  29.143  19.083  1.00  0.00           C  \\nATOM    361  C   ILE A  23      18.453  28.941  20.591  1.00  0.00           C  \\nATOM    362  O   ILE A  23      17.860  27.994  21.128  1.00  0.00           O  \\nATOM    363  CB  ILE A  23      17.864  27.977  18.346  1.00  0.00           C  \\nATOM    364  N   ILE A  23      19.172  29.808  21.243  1.00  0.00           N  \\nATOM    365  CA  ILE A  23      19.399  29.894  22.655  1.00  0.00           C  \\nATOM    366  C   ILE A  23      20.083  28.729  23.321  1.00  0.00           C  \\nATOM    367  O   ILE A  23      19.991  28.584  24.561  1.00  0.00           O  \\nATOM    368  N   ILE A  23      20.801  27.931  22.578  1.00  0.00           N  \\nATOM    369  CA  ILE A  23      21.550  26.796  23.133  1.00  0.00           C  \\nATOM    370  C   GLU A  24      23.046  27.087  22.913  1.00  0.00           C  \\nATOM    371  O   GLU A  24      23.383  27.627  21.870  1.00  0.00           O  \\nATOM    372  CB  GLU A  24      21.242  25.519  22.391  1.00  0.00           C  \\nATOM    373  CG  GLU A  24      19.762  25.077  22.455  1.00  0.00           C  \\nATOM    374  CD  GLU A  24      19.634  23.885  21.531  1.00  0.00           C  \\nATOM    375  CE  GLU A  24      18.791  24.221  20.313  1.00  0.00           C  \\nATOM    376  NZ  GLU A  24      17.440  24.655  20.827  1.00  0.00           N  \\nATOM    377  N   GLU A  24      23.880  26.727  23.851  1.00  0.00           N  \\nATOM    378  CA  GLU A  24      25.349  26.872  23.643  1.00  0.00           C  \\nATOM    379  C   GLU A  24      25.743  25.586  22.922  1.00  0.00           C  \\nATOM    380  O   GLU A  24      25.325  24.489  23.378  1.00  0.00           O  \\nATOM    381  CB  GLU A  24      26.070  27.025  24.960  1.00  0.00           C  \\nATOM    382  CG  GLU A  24      27.553  27.356  24.695  1.00  0.00           C  \\nATOM    383  CD  GLU A  24      28.262  27.576  26.020  1.00  0.00           C  \\nATOM    384  OE1 GLU A  24      29.189  26.840  26.335  1.00  0.00           O  \\nATOM    385  NE2 ASN A  25      27.777  28.585  26.739  1.00  0.00           N  \\nATOM    386  N   ASN A  25      26.465  25.689  21.833  1.00  0.00           N  \\nATOM    387  CA  ASN A  25      26.826  24.521  21.012  1.00  0.00           C  \\nATOM    388  C   ASN A  25      27.994  23.781  21.643  1.00  0.00           C  \\nATOM    389  O   ASN A  25      28.904  24.444  22.098  1.00  0.00           O  \\nATOM    390  CB  ASN A  25      27.043  24.992  19.571  1.00  0.00           C  \\nATOM    391  CG  ASN A  25      25.931  25.844  18.959  1.00  0.00           C  \\nATOM    392  CD1 ASN A  25      26.203  26.083  17.471  1.00  0.00           C  \\nATOM    393  CD2 ASN A  25      24.577  25.190  19.079  1.00  0.00           C  \\nATOM    394  N   ASN A  25      27.942  22.448  21.648  1.00  0.00           N  \\nATOM    395  CA  ASN A  25      29.015  21.657  22.288  1.00  0.00           C  \\nATOM    396  C   ASN A  25      29.942  21.106  21.240  1.00  0.00           C  \\nATOM    397  O   ASN A  25      29.470  20.677  20.190  1.00  0.00           O  \\nATOM    398  CB  ASN A  25      28.348  20.540  23.066  1.00  0.00           C  \\nATOM    399  CG  VAL A  26      29.247  19.456  23.705  1.00  0.00           C  \\nATOM    400  CD  VAL A  26      28.722  19.047  25.066  1.00  0.00           C  \\nATOM    401  OE1 VAL A  26      29.139  18.132  25.746  1.00  0.00           O  \\nATOM    402  OE2 VAL A  26      27.777  19.842  25.367  1.00  0.00           O  \\nATOM    403  N   VAL A  26      31.233  21.090  21.459  1.00  0.00           N  \\nATOM    404  CA  VAL A  26      32.262  20.670  20.514  1.00  0.00           C  \\nATOM    405  C   VAL A  26      32.128  19.364  19.750  1.00  0.00           C  \\nATOM    406  O   VAL A  26      32.546  19.317  18.558  1.00  0.00           O  \\nATOM    407  CB  VAL A  26      33.638  20.716  21.242  1.00  0.00           C  \\nATOM    408  CG  VAL A  26      34.174  22.129  21.354  1.00  0.00           C  \\nATOM    409  OD1 VAL A  26      35.252  22.322  21.958  1.00  0.00           O  \\nATOM    410  OD2 VAL A  26      33.544  23.086  20.883  1.00  0.00           O  \\nATOM    411  N   VAL A  26      31.697  18.311  20.406  1.00  0.00           N  \\nATOM    412  CA  VAL A  26      31.568  16.962  19.825  1.00  0.00           C  \\nATOM    413  C   VAL A  26      30.320  16.698  19.051  1.00  0.00           C  \\nATOM    414  O   VAL A  26      30.198  15.657  18.366  1.00  0.00           O  \\nATOM    415  N   LYS A  27      29.340  17.594  19.076  1.00  0.00           N  \\nATOM    416  CA  LYS A  27      28.108  17.439  18.276  1.00  0.00           C  \\nATOM    417  C   LYS A  27      28.375  17.999  16.887  1.00  0.00           C  \\nATOM    418  O   LYS A  27      29.326  18.786  16.690  1.00  0.00           O  \\nATOM    419  CB  LYS A  27      26.926  18.191  18.892  1.00  0.00           C  \\nATOM    420  CG  LYS A  27      26.621  17.799  20.352  1.00  0.00           C  \\nATOM    421  CD  LYS A  27      26.010  16.370  20.280  1.00  0.00           C  \\nATOM    422  NE  LYS A  27      26.975  15.521  20.942  1.00  0.00           N  \\nATOM    423  CZ  LYS A  27      27.603  14.423  20.655  1.00  0.00           C  \\nATOM    424  NH1 LYS A  27      27.479  13.733  19.537  1.00  0.00           N  \\nATOM    425  NH2 LYS A  27      28.519  13.967  21.550  1.00  0.00           N  \\nATOM    426  N   LYS A  27      27.510  17.689  15.954  1.00  0.00           N  \\nATOM    427  CA  LYS A  27      27.574  18.192  14.563  1.00  0.00           C  \\nATOM    428  C   LYS A  27      26.482  19.280  14.432  1.00  0.00           C  \\nATOM    429  O   LYS A  27      25.609  19.388  15.287  1.00  0.00           O  \\nATOM    430  CB  LYS A  27      27.299  17.055  13.533  1.00  0.00           C  \\nATOM    431  OG1 LYS A  27      25.925  16.611  13.913  1.00  0.00           O  \\nATOM    432  CG2 LYS A  27      28.236  15.864  13.558  1.00  0.00           C  \\nATOM    433  N   LYS A  27      26.585  20.063  13.378  1.00  0.00           N  \\nATOM    434  CA  LYS A  27      25.594  21.109  13.072  1.00  0.00           C  \\nATOM    435  C   LYS A  27      24.241  20.436  12.857  1.00  0.00           C  \\nATOM    436  O   LYS A  27      23.264  20.951  13.329  1.00  0.00           O  \\nATOM    437  CB  ALA A  28      26.084  21.888  11.833  1.00  0.00           C  \\nATOM    438  CG  ALA A  28      27.426  22.616  11.902  1.00  0.00           C  \\nATOM    439  CD1 ALA A  28      27.718  23.341  10.578  1.00  0.00           C  \\nATOM    440  CD2 ALA A  28      27.380  23.721  12.955  1.00  0.00           C  \\nATOM    441  N   ALA A  28      24.240  19.233  12.246  1.00  0.00           N  \\nATOM    442  CA  ALA A  28      22.924  18.583  12.025  1.00  0.00           C  \\nATOM    443  C   ALA A  28      22.229  18.244  13.325  1.00  0.00           C  \\nATOM    444  O   ALA A  28      20.963  18.253  13.395  1.00  0.00           O  \\nATOM    445  CB  ALA A  28      23.059  17.326  11.154  1.00  0.00           C  \\nATOM    446  OG  ALA A  28      23.914  16.395  11.755  1.00  0.00           O  \\nATOM    447  N   LYS A  29      22.997  17.978  14.366  1.00  0.00           N  \\nATOM    448  CA  LYS A  29      22.418  17.638  15.693  1.00  0.00           C  \\nATOM    449  C   LYS A  29      21.460  18.737  16.163  1.00  0.00           C  \\nATOM    450  O   LYS A  29      20.497  18.506  16.900  1.00  0.00           O  \\nATOM    451  CB  LYS A  29      23.461  17.331  16.741  1.00  0.00           C  \\nATOM    452  CG  LYS A  29      24.184  16.016  16.619  1.00  0.00           C  \\nATOM    453  OD1 LYS A  29      25.303  15.894  17.152  1.00  0.00           O  \\nATOM    454  OD2 LYS A  29      23.572  15.107  15.975  1.00  0.00           O  \\nATOM    455  N   LYS A  29      21.846  19.954  15.905  1.00  0.00           N  \\nATOM    456  CA  LYS A  29      21.079  21.149  16.251  1.00  0.00           C  \\nATOM    457  C   LYS A  29      20.142  21.590  15.149  1.00  0.00           C  \\nATOM    458  O   LYS A  29      19.499  22.645  15.321  1.00  0.00           O  \\nATOM    459  CB  LYS A  29      22.085  22.254  16.581  1.00  0.00           C  \\nATOM    460  CG  LYS A  29      22.945  21.951  17.785  1.00  0.00           C  \\nATOM    461  CD1 LYS A  29      24.272  21.544  17.644  1.00  0.00           C  \\nATOM    462  CD2 LYS A  29      22.437  22.157  19.065  1.00  0.00           C  \\nATOM    463  CE1 LYS A  29      25.052  21.285  18.776  1.00  0.00           C  \\nATOM    464  CE2 LYS A  29      23.204  21.907  20.192  1.00  0.00           C  \\nATOM    465  CZ  LYS A  29      24.517  21.470  20.030  1.00  0.00           C  \\nATOM    466  OH  LYS A  29      25.248  21.302  21.191  1.00  0.00           O  \\nATOM    467  N   LYS A  29      19.993  20.884  14.049  1.00  0.00           N  \\nATOM    468  CA  LYS A  29      19.065  21.352  12.999  1.00  0.00           C  \\nATOM    469  C   ILE A  30      19.442  22.745  12.510  1.00  0.00           C  \\nATOM    470  O   ILE A  30      18.571  23.610  12.289  1.00  0.00           O  \\nATOM    471  CB  ILE A  30      17.586  21.282  13.461  1.00  0.00           C  \\nATOM    472  CG  ILE A  30      16.576  21.258  12.315  1.00  0.00           C  \\nATOM    473  OD1 ILE A  30      15.440  21.819  12.378  1.00  0.00           O  \\nATOM    474  ND2 ILE A  30      16.924  20.586  11.216  1.00  0.00           N  \\nATOM    475  N   ILE A  30      20.717  22.964  12.260  1.00  0.00           N  \\nATOM    476  CA  ILE A  30      21.184  24.263  11.690  1.00  0.00           C  \\nATOM    477  C   ILE A  30      21.110  24.111  10.173  1.00  0.00           C  \\nATOM    478  O   ILE A  30      21.841  23.198   9.686  1.00  0.00           O  \\nATOM    479  CB  ILE A  30      22.650  24.516  12.172  1.00  0.00           C  \\nATOM    480  CG1 ILE A  30      22.662  24.819  13.699  1.00  0.00           C  \\nATOM    481  CG2 ILE A  30      23.376  25.645  11.409  1.00  0.00           C  \\nATOM    482  CD1 ILE A  30      24.123  24.981  14.195  1.00  0.00           C  \\nATOM    483  N   ILE A  30      20.291  24.875   9.507  1.00  0.00           N  \\nATOM    484  CA  ILE A  30      20.081  24.773   8.033  1.00  0.00           C  \\nATOM    485  C   ILE A  30      20.822  25.914   7.332  1.00  0.00           C  \\nATOM    486  O   ILE A  30      21.323  26.830   8.008  1.00  0.00           O  \\nATOM    487  CB  ILE A  30      18.599  24.736   7.727  1.00  0.00           C  \\nATOM    488  CG  GLN A  31      17.819  23.434   7.900  1.00  0.00           C  \\nATOM    489  CD  GLN A  31      16.509  23.529   7.116  1.00  0.00           C  \\nATOM    490  OE1 GLN A  31      15.446  22.980   7.433  1.00  0.00           O  \\nATOM    491  NE2 GLN A  31      16.539  24.293   6.009  1.00  0.00           N  \\nATOM    492  N   GLN A  31      20.924  25.862   6.006  1.00  0.00           N  \\nATOM    493  CA  GLN A  31      21.656  26.847   5.240  1.00  0.00           C  \\nATOM    494  C   GLN A  31      21.127  28.240   5.574  1.00  0.00           C  \\nATOM    495  O   GLN A  31      19.958  28.465   5.842  1.00  0.00           O  \\nATOM    496  CB  GLN A  31      21.631  26.642   3.731  1.00  0.00           C  \\nATOM    497  CG  GLN A  31      20.210  26.423   3.175  1.00  0.00           C  \\nATOM    498  CD  GLN A  31      20.268  26.589   1.656  1.00  0.00           C  \\nATOM    499  CE  GLN A  31      19.202  25.857   0.891  1.00  0.00           C  \\nATOM    500  NZ  GLN A  31      17.884  26.544   1.075  1.00  0.00           N  \\nATOM    501  N   GLN A  31      22.099  29.163   5.605  1.00  0.00           N  \\nATOM    502  CA  GLN A  31      21.907  30.563   5.881  1.00  0.00           C  \\nATOM    503  C   GLN A  31      21.466  30.953   7.261  1.00  0.00           C  \\nATOM    504  O   GLN A  31      21.066  32.112   7.533  1.00  0.00           O  \\nATOM    505  CB  ASP A  32      21.023  31.223   4.784  1.00  0.00           C  \\nATOM    506  CG  ASP A  32      21.861  31.342   3.474  1.00  0.00           C  \\nATOM    507  CD  ASP A  32      21.156  30.726   2.311  1.00  0.00           C  \\nATOM    508  OE1 ASP A  32      19.942  30.793   2.170  1.00  0.00           O  \\nATOM    509  OE2 ASP A  32      21.954  30.152   1.535  1.00  0.00           O  \\nATOM    510  N   ASP A  32      21.674  30.034   8.191  1.00  0.00           N  \\nATOM    511  CA  ASP A  32      21.419  30.253   9.620  1.00  0.00           C  \\nATOM    512  C   ASP A  32      22.504  31.228  10.136  1.00  0.00           C  \\nATOM    513  O   ASP A  32      23.579  31.321   9.554  1.00  0.00           O  \\nATOM    514  CB  ASP A  32      21.637  28.923  10.353  1.00  0.00           C  \\nATOM    515  OG  ASP A  32      20.544  28.047  10.059  1.00  0.00           O  \\nATOM    516  N   ASP A  32      22.241  31.873  11.241  1.00  0.00           N  \\nATOM    517  CA  LYS A  33      23.212  32.762  11.891  1.00  0.00           C  \\nATOM    518  C   LYS A  33      23.509  32.224  13.290  1.00  0.00           C  \\nATOM    519  O   LYS A  33      22.544  31.942  14.034  1.00  0.00           O  \\nATOM    520  CB  LYS A  33      22.699  34.267  11.985  1.00  0.00           C  \\nATOM    521  OG1 LYS A  33      22.495  34.690  10.589  1.00  0.00           O  \\nATOM    522  CG2 LYS A  33      23.727  35.131  12.722  1.00  0.00           C  \\nATOM    523  N   LYS A  33      24.790  32.021  13.618  1.00  0.00           N  \\nATOM    524  CA  LYS A  33      25.149  31.609  14.980  1.00  0.00           C  \\nATOM    525  C   LYS A  33      25.698  32.876  15.669  1.00  0.00           C  \\nATOM    526  O   LYS A  33      26.158  33.730  14.894  1.00  0.00           O  \\nATOM    527  CB  LYS A  33      26.310  30.594  14.967  1.00  0.00           C  \\nATOM    528  CG  LYS A  33      26.290  29.480  13.960  1.00  0.00           C  \\nATOM    529  CD1 LYS A  33      27.393  28.442  14.229  1.00  0.00           C  \\nATOM    530  CD2 LYS A  33      24.942  28.807  13.952  1.00  0.00           C  \\nATOM    531  N   LYS A  33      25.621  32.945  16.950  1.00  0.00           N  \\nATOM    532  CA  LYS A  33      26.179  34.127  17.650  1.00  0.00           C  \\nATOM    533  C   LYS A  33      27.475  33.651  18.304  1.00  0.00           C  \\nATOM    534  O   LYS A  33      27.507  32.587  18.958  1.00  0.00           O  \\nATOM    535  CB  LYS A  33      25.214  34.565  18.780  1.00  0.00           C  \\nATOM    536  CG  LYS A  33      23.978  35.121  18.126  1.00  0.00           C  \\nATOM    537  ND1 LYS A  33      23.853  36.432  17.781  1.00  0.00           N  \\nATOM    538  CD2 LYS A  33      22.824  34.514  17.782  1.00  0.00           C  \\nATOM    539  CE1 GLU A  34      22.674  36.627  17.200  1.00  0.00           C  \\nATOM    540  NE2 GLU A  34      22.045  35.455  17.173  1.00  0.00           N  \\nATOM    541  N   GLU A  34      28.525  34.447  18.189  1.00  0.00           N  \\nATOM    542  CA  GLU A  34      29.801  34.145  18.829  1.00  0.00           C  \\nATOM    543  C   GLU A  34      30.052  35.042  20.004  1.00  0.00           C  \\nATOM    544  O   GLU A  34      30.105  36.305  19.788  1.00  0.00           O  \\nATOM    545  CB  GLU A  34      30.925  34.304  17.753  1.00  0.00           C  \\nATOM    546  CG  GLU A  34      32.345  34.183  18.358  1.00  0.00           C  \\nATOM    547  CD1 GLU A  34      32.555  32.783  18.870  1.00  0.00           C  \\nATOM    548  CD2 GLU A  34      33.361  34.491  17.245  1.00  0.00           C  \\nATOM    549  N   GLU A  34      30.124  34.533  21.191  1.00  0.00           N  \\nATOM    550  CA  GLU A  34      30.479  35.369  22.374  1.00  0.00           C  \\nATOM    551  C   GLU A  34      31.901  34.910  22.728  1.00  0.00           C  \\nATOM    552  O   GLU A  34      32.190  33.696  22.635  1.00  0.00           O  \\nATOM    553  CB  GLU A  34      29.472  35.181  23.498  1.00  0.00           C  \\nATOM    554  CG1 GLY A  35      29.821  35.957  24.765  1.00  0.00           C  \\nATOM    555  CG2 GLY A  35      28.049  35.454  23.071  1.00  0.00           C  \\nATOM    556  N   GLY A  35      32.763  35.831  23.090  1.00  0.00           N  \\nATOM    557  CA  GLY A  35      34.145  35.472  23.481  1.00  0.00           C  \\nATOM    558  C   GLY A  35      34.239  35.353  24.979  1.00  0.00           C  \\nATOM    559  O   GLY A  35      33.707  36.197  25.728  1.00  0.00           O  \\nATOM    560  CB  GLY A  35      35.114  36.564  22.907  1.00  0.00           C  \\nATOM    561  CG  ILE A  36      35.926  35.979  21.737  1.00  0.00           C  \\nATOM    562  CD1 ILE A  36      35.003  35.084  20.920  1.00  0.00           C  \\nATOM    563  CD2 ILE A  36      36.533  37.087  20.917  1.00  0.00           C  \\nATOM    564  N   ILE A  36      34.930  34.384  25.451  1.00  0.00           N  \\nATOM    565  CA  ILE A  36      35.161  34.174  26.896  1.00  0.00           C  \\nATOM    566  C   ILE A  36      36.671  34.296  27.089  1.00  0.00           C  \\nATOM    567  O   ILE A  36      37.305  33.233  26.795  1.00  0.00           O  \\nATOM    568  CB  ILE A  36      34.717  32.760  27.286  1.00  0.00           C  \\nATOM    569  CG  ILE A  36      35.752  32.054  28.160  1.00  0.00           C  \\nATOM    570  CD  ILE A  36      35.612  30.577  28.044  1.00  0.00           C  \\nATOM    571  NE  ILE A  36      35.040  30.252  26.730  1.00  0.00           N  \\nATOM    572  CZ  ILE A  36      34.338  29.103  26.650  1.00  0.00           C  \\nATOM    573  NH1 ILE A  36      34.110  28.437  27.768  1.00  0.00           N  \\nATOM    574  NH2 ILE A  36      34.014  28.657  25.457  1.00  0.00           N  \\nATOM    575  N   ILE A  36      37.197  35.397  27.513  1.00  0.00           N  \\nATOM    576  CA  ILE A  36      38.668  35.502  27.680  1.00  0.00           C  \\nATOM    577  C   ILE A  36      39.076  34.931  29.031  1.00  0.00           C  \\nATOM    578  O   ILE A  36      38.297  34.946  29.996  1.00  0.00           O  \\nATOM    579  CB  ILE A  36      39.080  36.941  27.406  1.00  0.00           C  \\nATOM    580  CG  PRO A  37      39.502  37.340  26.002  1.00  0.00           C  \\nATOM    581  CD1 PRO A  37      38.684  36.647  24.923  1.00  0.00           C  \\nATOM    582  CD2 PRO A  37      39.337  38.854  25.862  1.00  0.00           C  \\nATOM    583  N   PRO A  37      40.294  34.412  29.045  1.00  0.00           N  \\nATOM    584  CA  PRO A  37      40.873  33.802  30.253  1.00  0.00           C  \\nATOM    585  C   PRO A  37      41.765  34.829  30.944  1.00  0.00           C  \\nATOM    586  O   PRO A  37      42.945  34.994  30.583  1.00  0.00           O  \\nATOM    587  CB  PRO A  37      41.651  32.529  29.923  1.00  0.00           C  \\nATOM    588  CG  PRO A  37      41.608  31.444  30.989  1.00  0.00           C  \\nATOM    589  CD  PRO A  37      41.896  30.080  30.456  1.00  0.00           C  \\nATOM    590  NE  PRO A  37      43.311  29.735  30.563  1.00  0.00           N  \\nATOM    591  CZ  PRO A  37      44.174  29.905  29.554  1.00  0.00           C  \\nATOM    592  NH1 PRO A  37      43.754  30.312  28.356  1.00  0.00           N  \\nATOM    593  NH2 PRO A  37      45.477  29.726  29.763  1.00  0.00           N  \\nATOM    594  N   PRO A  38      41.165  35.531  31.898  1.00  0.00           N  \\nATOM    595  CA  PRO A  38      41.845  36.550  32.686  1.00  0.00           C  \\nATOM    596  C   PRO A  38      41.251  37.941  32.588  1.00  0.00           C  \\nATOM    597  O   PRO A  38      41.102  38.523  31.500  1.00  0.00           O  \\nATOM    598  N   PRO A  38      40.946  38.472  33.757  1.00  0.00           N  \\nATOM    599  CA  PRO A  38      40.373  39.813  33.944  1.00  0.00           C  \\nATOM    600  C   PRO A  38      40.031  39.992  35.432  1.00  0.00           C  \\nATOM    601  O   PRO A  38      38.933  40.525  35.687  1.00  0.00           O  \\nATOM    602  OXT PRO A  38      40.862  39.575  36.251  1.00  0.00           O  \\n\",\"pdb\");\n",
       "\tviewer_15068942824556396.setStyle({\"cartoon\": {\"color\": \"orange\"}});\n",
       "\tviewer_15068942824556396.zoomTo();\n",
       "viewer_15068942824556396.render();\n",
       "});\n",
       "</script>"
      ],
      "text/plain": [
       "<IPython.core.display.HTML object>"
      ]
     },
     "execution_count": 18,
     "metadata": {},
     "output_type": "execute_result"
    }
   ],
   "source": [
    "pdb.view3d()"
   ]
  }
 ],
 "metadata": {
  "kernelspec": {
   "display_name": "Python 3",
   "language": "python",
   "name": "python3"
  },
  "language_info": {
   "codemirror_mode": {
    "name": "ipython",
    "version": 3
   },
   "file_extension": ".py",
   "mimetype": "text/x-python",
   "name": "python",
   "nbconvert_exporter": "python",
   "pygments_lexer": "ipython3",
   "version": "3.6.2"
  }
 },
 "nbformat": 4,
 "nbformat_minor": 2
}
